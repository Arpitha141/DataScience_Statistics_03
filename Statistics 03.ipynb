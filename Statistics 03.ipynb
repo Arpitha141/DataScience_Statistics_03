{
 "cells": [
  {
   "cell_type": "markdown",
   "metadata": {},
   "source": [
    "## Problem Statement 1: \n",
    "A company manufactures LED bulbs with a faulty rate of 30%. If I randomly select 6 chosen LEDs, what is the probability of having\n",
    "2 faulty LEDs in my sample? Calculate the average value of this process. Also evaluate the standard deviation associated with it.\n"
   ]
  },
  {
   "cell_type": "markdown",
   "metadata": {},
   "source": [
    "<img src=\"Images/Stats_Add_02_1_1.jpg\">"
   ]
  },
  {
   "cell_type": "markdown",
   "metadata": {},
   "source": [
    "## Problem Statement 2:\n",
    "Gaurav and Barakha are both preparing for entrance exams. Gaurav attempts to solve 8 questions per day with a correction rate of \n",
    "75%, while Barakha averages around 12 questions per day with a correction rate of 45%. What is the probability that each of them \n",
    "will solve 5 questions correctly? What happens in cases of 4 and 6 correct solutions? What do you infer from it? What are the \n",
    "two main governing factors affecting their ability to solve questions correctly? Give a pictorial representation of the same to \n",
    "validate your answer."
   ]
  },
  {
   "cell_type": "markdown",
   "metadata": {},
   "source": [
    "<img src=\"Images/Stats_Add_02_201_1.jpg\">\n",
    "<img src=\"Images/Stats_Add_02_202_1.jpg\">\n",
    "<img src=\"Images/Stats_Add_02_203_1.jpg\">\n",
    "<img src=\"Images/Stats_Add_02_204_1.jpg\">"
   ]
  },
  {
   "cell_type": "markdown",
   "metadata": {},
   "source": [
    "## Problem Statement 3: \n",
    "Customers arrive at a rate of 72 per hour to my shop. What is the probability of k customers arriving in 4 minutes?\n",
    "a) 5 customers, b) not more than 3 customers, c) more than 3 customers. Give a pictorial representation of the same to validate \n",
    "your answer."
   ]
  },
  {
   "cell_type": "markdown",
   "metadata": {},
   "source": [
    "<img src=\"Images/Stats_Add_02_301_1.jpg\">\n",
    "<img src=\"Images/Stats_Add_02_302_1.jpg\">"
   ]
  },
  {
   "cell_type": "markdown",
   "metadata": {},
   "source": [
    "## Problem Statement 4: \n",
    "I work as a data analyst in Aeon Learning Pvt. Ltd. After analyzing data, I make reports, where I have the efficiency of entering\n",
    "77 words per minute with 6 errors per hour. What is the probability that I will commit 2 errors in a 455-word financial report?\n",
    "What happens when the no. of words increases (in case of 1000 words) or decreases (255 words)? How is the λ affected? How does it\n",
    "influence the PMF? Give a pictorial representation of the same to validate your answer."
   ]
  },
  {
   "cell_type": "markdown",
   "metadata": {},
   "source": [
    "<img src=\"Images/Stats_Add_02_401_1.jpg\">\n",
    "<img src=\"Images/Stats_Add_02_402.jpg\">\n",
    "<img src=\"Images/Stats_Add_02_403_1.jpg\">"
   ]
  },
  {
   "cell_type": "markdown",
   "metadata": {},
   "source": [
    "## Problem Statement 5: \n",
    "The current measured in a copper wire is modelled by a continuous random variable 𝑋. 𝑋 is in milliamperes. Assume that the range \n",
    "of X is [0, 20 mA]. The probability density function is given by, 𝑓(𝑥) = 0.05 for 0≤𝑥≤20. What is the probability that a current \n",
    "measurement is less than 10 milliamperes? Draw the PDF and the CDF diagrams as well."
   ]
  },
  {
   "cell_type": "markdown",
   "metadata": {},
   "source": [
    "<img src=\"Images/Stats_03_5_1_1.jpg\">"
   ]
  },
  {
   "cell_type": "markdown",
   "metadata": {},
   "source": [
    "<img src=\"Images/Stats_03_5_2_1.jpg\">"
   ]
  },
  {
   "cell_type": "code",
   "execution_count": null,
   "metadata": {},
   "outputs": [],
   "source": []
  }
 ],
 "metadata": {
  "kernelspec": {
   "display_name": "Python 3",
   "language": "python",
   "name": "python3"
  },
  "language_info": {
   "codemirror_mode": {
    "name": "ipython",
    "version": 3
   },
   "file_extension": ".py",
   "mimetype": "text/x-python",
   "name": "python",
   "nbconvert_exporter": "python",
   "pygments_lexer": "ipython3",
   "version": "3.7.0"
  }
 },
 "nbformat": 4,
 "nbformat_minor": 2
}
